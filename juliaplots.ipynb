{
 "cells": [
  {
   "cell_type": "markdown",
   "metadata": {
    "collapsed": false
   },
   "source": [
    "# Julia Set Plotting Extension\n",
    "\n",
    "Load module for a JuliaSet that conforms to the specified interface.\n",
    "\n",
    "It is wise to run the test suite in `test_juliaset.py` with `nosetests` prior to attempting to plot here."
   ]
  },
  {
   "cell_type": "code",
   "execution_count": null,
   "metadata": {
    "collapsed": false
   },
   "outputs": [],
   "source": [
    "from juliaset import JuliaSet"
   ]
  },
  {
   "cell_type": "markdown",
   "metadata": {},
   "source": [
    "Load additional libraries needed for plotting and profiling."
   ]
  },
  {
   "cell_type": "code",
   "execution_count": null,
   "metadata": {
    "collapsed": false
   },
   "outputs": [],
   "source": [
    "# Math libraries\n",
    "import numpy as np\n",
    "from math import sqrt\n",
    "\n",
    "# Matplotlib plotting libraries\n",
    "import matplotlib.pyplot as plt\n",
    "%matplotlib inline\n",
    "\n",
    "# Bokeh plotting libraries\n",
    "import bokeh.plotting as blt\n",
    "blt.output_notebook()"
   ]
  },
  {
   "cell_type": "markdown",
   "metadata": {},
   "source": [
    "Extend JuliaSet class with additional functionality."
   ]
  },
  {
   "cell_type": "code",
   "execution_count": null,
   "metadata": {
    "collapsed": false
   },
   "outputs": [],
   "source": [
    "class JuliaSetPlot(JuliaSet):\n",
    "    \"\"\"Extend JuliaSet to add plotting functionality\"\"\"\n",
    "    \n",
    "    def __init__(self, *args, **kwargs):\n",
    "        # Invoke constructor for JuliaSet first, unaltered\n",
    "        JuliaSet.__init__(self, *args, **kwargs)\n",
    "        # Add another attribute: a rendered image array\n",
    "        self.img = np.array([])\n",
    "    \n",
    "    def get_dim(self):\n",
    "        \"\"\"Return linear number of points in axis\"\"\"\n",
    "        return int(4.0 / self._d)\n",
    "    \n",
    "    def render(self):\n",
    "        \"\"\"Render image as square array of ints\"\"\"\n",
    "        if not self.set: self.generate()\n",
    "        # Convert inefficient list to efficient numpy array\n",
    "        self.img = np.array(self.set)\n",
    "        # Reshape array into a 2d complex plane\n",
    "        dim = int(sqrt(len(self.img)))\n",
    "        self.img = np.reshape(self.img, (dim,dim)).T\n",
    "        \n",
    "    def show(self):\n",
    "        \"\"\"Use matplotlib to plot image as an efficient mesh\"\"\"\n",
    "        if not self.img.size: self.render()\n",
    "        plt.figure(1, figsize=(12,9))\n",
    "        xy = np.linspace(-2,2,self.get_dim())\n",
    "        plt.pcolormesh(xy, xy, self.img, cmap=plt.cm.hot)\n",
    "        plt.colorbar()\n",
    "        plt.show()\n",
    "        \n",
    "    def interact(self):\n",
    "        \"\"\"Use bokeh to plot an interactive image\"\"\"\n",
    "        from matplotlib.colors import rgb2hex\n",
    "        if not self.img.size: self.render()\n",
    "        # Mimic matplotlib \"hot\" color palette\n",
    "        colormap = plt.cm.get_cmap(\"hot\")\n",
    "        bokehpalette = [rgb2hex(m) for m in colormap(np.arange(colormap.N))]\n",
    "        # Create bokeh figure\n",
    "        f = blt.figure(x_range=(-2,2), y_range=(-2,2), plot_width=600, plot_height=600)\n",
    "        f.image(image=[self.img], x=[-2], y=[-2], dw=[4], dh=[4], palette=bokehpalette, dilate=True)\n",
    "        blt.show(f)"
   ]
  },
  {
   "cell_type": "markdown",
   "metadata": {},
   "source": [
    "Visualize a Julia set using matplotlib."
   ]
  },
  {
   "cell_type": "code",
   "execution_count": null,
   "metadata": {
    "collapsed": false
   },
   "outputs": [],
   "source": [
    "j = JuliaSetPlot(-1.037 + 0.17j)\n",
    "%time j.set_spacing(0.006)\n",
    "%time j.generate()\n",
    "%time j.show()"
   ]
  },
  {
   "cell_type": "markdown",
   "metadata": {},
   "source": [
    "Visualize a different Julia set using Bokeh as an interactive Javascript plot."
   ]
  },
  {
   "cell_type": "code",
   "execution_count": null,
   "metadata": {
    "collapsed": false
   },
   "outputs": [],
   "source": [
    "j = JuliaSetPlot(-0.624 + 0.435j)\n",
    "%time j.set_spacing(0.006)\n",
    "%time j.generate()\n",
    "%time j.interact()"
   ]
  },
  {
   "cell_type": "code",
   "execution_count": null,
   "metadata": {
    "collapsed": false
   },
   "outputs": [],
   "source": [
    "%prun j.generate()"
   ]
  },
  {
   "cell_type": "code",
   "execution_count": null,
   "metadata": {
    "collapsed": false
   },
   "outputs": [],
   "source": [
    "%load_ext line_profiler\n",
    "%lprun -f j.generate j.generate()"
   ]
  },
  {
   "cell_type": "code",
   "execution_count": null,
   "metadata": {
    "collapsed": true
   },
   "outputs": [],
   "source": []
  }
 ],
 "metadata": {
  "kernelspec": {
   "display_name": "Python 2",
   "language": "python",
   "name": "python2"
  },
  "language_info": {
   "codemirror_mode": {
    "name": "ipython",
    "version": 2
   },
   "file_extension": ".py",
   "mimetype": "text/x-python",
   "name": "python",
   "nbconvert_exporter": "python",
   "pygments_lexer": "ipython2",
   "version": "2.7.9"
  },
  "name": "juliaplots.ipynb"
 },
 "nbformat": 4,
 "nbformat_minor": 0
}
