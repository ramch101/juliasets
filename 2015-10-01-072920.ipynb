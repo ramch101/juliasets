{
 "cells": [
  {
   "cell_type": "code",
   "execution_count": 1,
   "metadata": {
    "collapsed": false
   },
   "outputs": [],
   "source": [
    "class JuliaSet():\n",
    "    \n",
    "    def __init__(self, c, n=100): # This is the data for the class - \n",
    "        self.c = c     \n",
    "        self.n = n\n",
    "        self._d = 0.001\n",
    "        self.set = [ ]\n",
    "        self._complexplane = [ ]\n",
    "    \n",
    "    def juliamap(self, z) : # This is the method for the class \n",
    "        return (z**2 + self.c)\n",
    "    \n",
    "\n",
    "    def  iterate(self, z):  # This is the method for the class\n",
    "        m = 0\n",
    "        while True:\n",
    "            z = self.juliamap(z)\n",
    "            m = m+1\n",
    "            if abs(z) > 2 :\n",
    "                return(m)\n",
    "            elif m >= self.n :\n",
    "                return(0)\n",
    "\n",
    "            \n",
    "    def create_complexplane(self,d) :\n",
    "        list1 = [ ]\n",
    "        i = -2.0\n",
    "        while i <= 2.0 :\n",
    "            j = -2.0\n",
    "            while j <= 2.0 :\n",
    "                list1.append(complex(i,j))\n",
    "                j = j+d\n",
    "            i = i+d\n",
    "        return list1    \n",
    "            \n",
    "    def set_spacing(self, d) : # This is the method for the class \n",
    "        self._d = d\n",
    "        self._complexplane = self.create_complexplane(self._d)\n",
    "        #print self._complexplane  # to troubleshoot the code\n",
    "   \n",
    "    def generate(self) :\n",
    "        self.set_spacing(self._d)\n",
    "        for complex_number in self._complexplane:\n",
    "             self.set.append(self.iterate(complex_number))\n",
    "        return self.set\n",
    "\n",
    "    \n"
   ]
  },
  {
   "cell_type": "code",
   "execution_count": 4,
   "metadata": {
    "collapsed": false
   },
   "outputs": [
    {
     "name": "stdout",
     "output_type": "stream",
     "text": [
      "0.006\n",
      "444889\n"
     ]
    }
   ],
   "source": [
    "j = JuliaSet(-1.037 + 0.17j)\n",
    "j.set_spacing(0.006)\n",
    "print j._d\n",
    "#print j.create_complexplane(j._d)\n",
    "print len(j.generate())"
   ]
  },
  {
   "cell_type": "code",
   "execution_count": null,
   "metadata": {
    "collapsed": true
   },
   "outputs": [],
   "source": []
  }
 ],
 "metadata": {
  "kernelspec": {
   "display_name": "Python 2",
   "language": "python",
   "name": "python2"
  },
  "language_info": {
   "codemirror_mode": {
    "name": "ipython",
    "version": 2
   },
   "file_extension": ".py",
   "mimetype": "text/x-python",
   "name": "python",
   "nbconvert_exporter": "python",
   "pygments_lexer": "ipython2",
   "version": "2.7.9"
  },
  "name": "2015-10-01-072920.ipynb"
 },
 "nbformat": 4,
 "nbformat_minor": 0
}
